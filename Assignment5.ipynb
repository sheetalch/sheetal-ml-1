{
 "cells": [
  {
   "cell_type": "code",
   "execution_count": 595,
   "id": "f294a284",
   "metadata": {},
   "outputs": [],
   "source": [
    "import matplotlib.pyplot as plt\n",
    "import seaborn as sns\n",
    "import pandas as pd\n",
    "import numpy as np"
   ]
  },
  {
   "cell_type": "code",
   "execution_count": 531,
   "id": "8c1e0f32",
   "metadata": {},
   "outputs": [],
   "source": [
    "data = pd.read_csv('/Users/sheetalchaudhari/Documents/assignment_5_1_starter/data/coupons.csv')"
   ]
  },
  {
   "cell_type": "code",
   "execution_count": 532,
   "id": "ee701b39",
   "metadata": {},
   "outputs": [
    {
     "data": {
      "text/html": [
       "<div>\n",
       "<style scoped>\n",
       "    .dataframe tbody tr th:only-of-type {\n",
       "        vertical-align: middle;\n",
       "    }\n",
       "\n",
       "    .dataframe tbody tr th {\n",
       "        vertical-align: top;\n",
       "    }\n",
       "\n",
       "    .dataframe thead th {\n",
       "        text-align: right;\n",
       "    }\n",
       "</style>\n",
       "<table border=\"1\" class=\"dataframe\">\n",
       "  <thead>\n",
       "    <tr style=\"text-align: right;\">\n",
       "      <th></th>\n",
       "      <th>destination</th>\n",
       "      <th>passanger</th>\n",
       "      <th>weather</th>\n",
       "      <th>temperature</th>\n",
       "      <th>time</th>\n",
       "      <th>coupon</th>\n",
       "      <th>expiration</th>\n",
       "      <th>gender</th>\n",
       "      <th>age</th>\n",
       "      <th>maritalStatus</th>\n",
       "      <th>...</th>\n",
       "      <th>CoffeeHouse</th>\n",
       "      <th>CarryAway</th>\n",
       "      <th>RestaurantLessThan20</th>\n",
       "      <th>Restaurant20To50</th>\n",
       "      <th>toCoupon_GEQ5min</th>\n",
       "      <th>toCoupon_GEQ15min</th>\n",
       "      <th>toCoupon_GEQ25min</th>\n",
       "      <th>direction_same</th>\n",
       "      <th>direction_opp</th>\n",
       "      <th>Y</th>\n",
       "    </tr>\n",
       "  </thead>\n",
       "  <tbody>\n",
       "    <tr>\n",
       "      <th>0</th>\n",
       "      <td>No Urgent Place</td>\n",
       "      <td>Alone</td>\n",
       "      <td>Sunny</td>\n",
       "      <td>55</td>\n",
       "      <td>2PM</td>\n",
       "      <td>Restaurant(&lt;20)</td>\n",
       "      <td>1d</td>\n",
       "      <td>Female</td>\n",
       "      <td>21</td>\n",
       "      <td>Unmarried partner</td>\n",
       "      <td>...</td>\n",
       "      <td>never</td>\n",
       "      <td>NaN</td>\n",
       "      <td>4~8</td>\n",
       "      <td>1~3</td>\n",
       "      <td>1</td>\n",
       "      <td>0</td>\n",
       "      <td>0</td>\n",
       "      <td>0</td>\n",
       "      <td>1</td>\n",
       "      <td>1</td>\n",
       "    </tr>\n",
       "    <tr>\n",
       "      <th>1</th>\n",
       "      <td>No Urgent Place</td>\n",
       "      <td>Friend(s)</td>\n",
       "      <td>Sunny</td>\n",
       "      <td>80</td>\n",
       "      <td>10AM</td>\n",
       "      <td>Coffee House</td>\n",
       "      <td>2h</td>\n",
       "      <td>Female</td>\n",
       "      <td>21</td>\n",
       "      <td>Unmarried partner</td>\n",
       "      <td>...</td>\n",
       "      <td>never</td>\n",
       "      <td>NaN</td>\n",
       "      <td>4~8</td>\n",
       "      <td>1~3</td>\n",
       "      <td>1</td>\n",
       "      <td>0</td>\n",
       "      <td>0</td>\n",
       "      <td>0</td>\n",
       "      <td>1</td>\n",
       "      <td>0</td>\n",
       "    </tr>\n",
       "    <tr>\n",
       "      <th>2</th>\n",
       "      <td>No Urgent Place</td>\n",
       "      <td>Friend(s)</td>\n",
       "      <td>Sunny</td>\n",
       "      <td>80</td>\n",
       "      <td>10AM</td>\n",
       "      <td>Carry out &amp; Take away</td>\n",
       "      <td>2h</td>\n",
       "      <td>Female</td>\n",
       "      <td>21</td>\n",
       "      <td>Unmarried partner</td>\n",
       "      <td>...</td>\n",
       "      <td>never</td>\n",
       "      <td>NaN</td>\n",
       "      <td>4~8</td>\n",
       "      <td>1~3</td>\n",
       "      <td>1</td>\n",
       "      <td>1</td>\n",
       "      <td>0</td>\n",
       "      <td>0</td>\n",
       "      <td>1</td>\n",
       "      <td>1</td>\n",
       "    </tr>\n",
       "    <tr>\n",
       "      <th>3</th>\n",
       "      <td>No Urgent Place</td>\n",
       "      <td>Friend(s)</td>\n",
       "      <td>Sunny</td>\n",
       "      <td>80</td>\n",
       "      <td>2PM</td>\n",
       "      <td>Coffee House</td>\n",
       "      <td>2h</td>\n",
       "      <td>Female</td>\n",
       "      <td>21</td>\n",
       "      <td>Unmarried partner</td>\n",
       "      <td>...</td>\n",
       "      <td>never</td>\n",
       "      <td>NaN</td>\n",
       "      <td>4~8</td>\n",
       "      <td>1~3</td>\n",
       "      <td>1</td>\n",
       "      <td>1</td>\n",
       "      <td>0</td>\n",
       "      <td>0</td>\n",
       "      <td>1</td>\n",
       "      <td>0</td>\n",
       "    </tr>\n",
       "    <tr>\n",
       "      <th>4</th>\n",
       "      <td>No Urgent Place</td>\n",
       "      <td>Friend(s)</td>\n",
       "      <td>Sunny</td>\n",
       "      <td>80</td>\n",
       "      <td>2PM</td>\n",
       "      <td>Coffee House</td>\n",
       "      <td>1d</td>\n",
       "      <td>Female</td>\n",
       "      <td>21</td>\n",
       "      <td>Unmarried partner</td>\n",
       "      <td>...</td>\n",
       "      <td>never</td>\n",
       "      <td>NaN</td>\n",
       "      <td>4~8</td>\n",
       "      <td>1~3</td>\n",
       "      <td>1</td>\n",
       "      <td>1</td>\n",
       "      <td>0</td>\n",
       "      <td>0</td>\n",
       "      <td>1</td>\n",
       "      <td>0</td>\n",
       "    </tr>\n",
       "    <tr>\n",
       "      <th>...</th>\n",
       "      <td>...</td>\n",
       "      <td>...</td>\n",
       "      <td>...</td>\n",
       "      <td>...</td>\n",
       "      <td>...</td>\n",
       "      <td>...</td>\n",
       "      <td>...</td>\n",
       "      <td>...</td>\n",
       "      <td>...</td>\n",
       "      <td>...</td>\n",
       "      <td>...</td>\n",
       "      <td>...</td>\n",
       "      <td>...</td>\n",
       "      <td>...</td>\n",
       "      <td>...</td>\n",
       "      <td>...</td>\n",
       "      <td>...</td>\n",
       "      <td>...</td>\n",
       "      <td>...</td>\n",
       "      <td>...</td>\n",
       "      <td>...</td>\n",
       "    </tr>\n",
       "    <tr>\n",
       "      <th>95</th>\n",
       "      <td>No Urgent Place</td>\n",
       "      <td>Friend(s)</td>\n",
       "      <td>Sunny</td>\n",
       "      <td>80</td>\n",
       "      <td>2PM</td>\n",
       "      <td>Restaurant(&lt;20)</td>\n",
       "      <td>1d</td>\n",
       "      <td>Male</td>\n",
       "      <td>21</td>\n",
       "      <td>Single</td>\n",
       "      <td>...</td>\n",
       "      <td>less1</td>\n",
       "      <td>1~3</td>\n",
       "      <td>less1</td>\n",
       "      <td>1~3</td>\n",
       "      <td>1</td>\n",
       "      <td>1</td>\n",
       "      <td>0</td>\n",
       "      <td>0</td>\n",
       "      <td>1</td>\n",
       "      <td>1</td>\n",
       "    </tr>\n",
       "    <tr>\n",
       "      <th>96</th>\n",
       "      <td>No Urgent Place</td>\n",
       "      <td>Friend(s)</td>\n",
       "      <td>Sunny</td>\n",
       "      <td>80</td>\n",
       "      <td>6PM</td>\n",
       "      <td>Coffee House</td>\n",
       "      <td>2h</td>\n",
       "      <td>Male</td>\n",
       "      <td>21</td>\n",
       "      <td>Single</td>\n",
       "      <td>...</td>\n",
       "      <td>less1</td>\n",
       "      <td>1~3</td>\n",
       "      <td>less1</td>\n",
       "      <td>1~3</td>\n",
       "      <td>1</td>\n",
       "      <td>0</td>\n",
       "      <td>0</td>\n",
       "      <td>0</td>\n",
       "      <td>1</td>\n",
       "      <td>1</td>\n",
       "    </tr>\n",
       "    <tr>\n",
       "      <th>97</th>\n",
       "      <td>No Urgent Place</td>\n",
       "      <td>Friend(s)</td>\n",
       "      <td>Sunny</td>\n",
       "      <td>80</td>\n",
       "      <td>6PM</td>\n",
       "      <td>Restaurant(&lt;20)</td>\n",
       "      <td>2h</td>\n",
       "      <td>Male</td>\n",
       "      <td>21</td>\n",
       "      <td>Single</td>\n",
       "      <td>...</td>\n",
       "      <td>less1</td>\n",
       "      <td>1~3</td>\n",
       "      <td>less1</td>\n",
       "      <td>1~3</td>\n",
       "      <td>1</td>\n",
       "      <td>1</td>\n",
       "      <td>0</td>\n",
       "      <td>0</td>\n",
       "      <td>1</td>\n",
       "      <td>1</td>\n",
       "    </tr>\n",
       "    <tr>\n",
       "      <th>98</th>\n",
       "      <td>No Urgent Place</td>\n",
       "      <td>Friend(s)</td>\n",
       "      <td>Sunny</td>\n",
       "      <td>55</td>\n",
       "      <td>2PM</td>\n",
       "      <td>Coffee House</td>\n",
       "      <td>2h</td>\n",
       "      <td>Male</td>\n",
       "      <td>21</td>\n",
       "      <td>Single</td>\n",
       "      <td>...</td>\n",
       "      <td>less1</td>\n",
       "      <td>1~3</td>\n",
       "      <td>less1</td>\n",
       "      <td>1~3</td>\n",
       "      <td>1</td>\n",
       "      <td>0</td>\n",
       "      <td>0</td>\n",
       "      <td>0</td>\n",
       "      <td>1</td>\n",
       "      <td>1</td>\n",
       "    </tr>\n",
       "    <tr>\n",
       "      <th>99</th>\n",
       "      <td>No Urgent Place</td>\n",
       "      <td>Friend(s)</td>\n",
       "      <td>Sunny</td>\n",
       "      <td>55</td>\n",
       "      <td>2PM</td>\n",
       "      <td>Carry out &amp; Take away</td>\n",
       "      <td>1d</td>\n",
       "      <td>Male</td>\n",
       "      <td>21</td>\n",
       "      <td>Single</td>\n",
       "      <td>...</td>\n",
       "      <td>less1</td>\n",
       "      <td>1~3</td>\n",
       "      <td>less1</td>\n",
       "      <td>1~3</td>\n",
       "      <td>1</td>\n",
       "      <td>1</td>\n",
       "      <td>0</td>\n",
       "      <td>0</td>\n",
       "      <td>1</td>\n",
       "      <td>1</td>\n",
       "    </tr>\n",
       "  </tbody>\n",
       "</table>\n",
       "<p>100 rows × 26 columns</p>\n",
       "</div>"
      ],
      "text/plain": [
       "        destination  passanger weather  temperature  time  \\\n",
       "0   No Urgent Place      Alone   Sunny           55   2PM   \n",
       "1   No Urgent Place  Friend(s)   Sunny           80  10AM   \n",
       "2   No Urgent Place  Friend(s)   Sunny           80  10AM   \n",
       "3   No Urgent Place  Friend(s)   Sunny           80   2PM   \n",
       "4   No Urgent Place  Friend(s)   Sunny           80   2PM   \n",
       "..              ...        ...     ...          ...   ...   \n",
       "95  No Urgent Place  Friend(s)   Sunny           80   2PM   \n",
       "96  No Urgent Place  Friend(s)   Sunny           80   6PM   \n",
       "97  No Urgent Place  Friend(s)   Sunny           80   6PM   \n",
       "98  No Urgent Place  Friend(s)   Sunny           55   2PM   \n",
       "99  No Urgent Place  Friend(s)   Sunny           55   2PM   \n",
       "\n",
       "                   coupon expiration  gender age      maritalStatus  ...  \\\n",
       "0         Restaurant(<20)         1d  Female  21  Unmarried partner  ...   \n",
       "1            Coffee House         2h  Female  21  Unmarried partner  ...   \n",
       "2   Carry out & Take away         2h  Female  21  Unmarried partner  ...   \n",
       "3            Coffee House         2h  Female  21  Unmarried partner  ...   \n",
       "4            Coffee House         1d  Female  21  Unmarried partner  ...   \n",
       "..                    ...        ...     ...  ..                ...  ...   \n",
       "95        Restaurant(<20)         1d    Male  21             Single  ...   \n",
       "96           Coffee House         2h    Male  21             Single  ...   \n",
       "97        Restaurant(<20)         2h    Male  21             Single  ...   \n",
       "98           Coffee House         2h    Male  21             Single  ...   \n",
       "99  Carry out & Take away         1d    Male  21             Single  ...   \n",
       "\n",
       "    CoffeeHouse CarryAway RestaurantLessThan20 Restaurant20To50  \\\n",
       "0         never       NaN                  4~8              1~3   \n",
       "1         never       NaN                  4~8              1~3   \n",
       "2         never       NaN                  4~8              1~3   \n",
       "3         never       NaN                  4~8              1~3   \n",
       "4         never       NaN                  4~8              1~3   \n",
       "..          ...       ...                  ...              ...   \n",
       "95        less1       1~3                less1              1~3   \n",
       "96        less1       1~3                less1              1~3   \n",
       "97        less1       1~3                less1              1~3   \n",
       "98        less1       1~3                less1              1~3   \n",
       "99        less1       1~3                less1              1~3   \n",
       "\n",
       "   toCoupon_GEQ5min toCoupon_GEQ15min toCoupon_GEQ25min direction_same  \\\n",
       "0                 1                 0                 0              0   \n",
       "1                 1                 0                 0              0   \n",
       "2                 1                 1                 0              0   \n",
       "3                 1                 1                 0              0   \n",
       "4                 1                 1                 0              0   \n",
       "..              ...               ...               ...            ...   \n",
       "95                1                 1                 0              0   \n",
       "96                1                 0                 0              0   \n",
       "97                1                 1                 0              0   \n",
       "98                1                 0                 0              0   \n",
       "99                1                 1                 0              0   \n",
       "\n",
       "   direction_opp  Y  \n",
       "0              1  1  \n",
       "1              1  0  \n",
       "2              1  1  \n",
       "3              1  0  \n",
       "4              1  0  \n",
       "..           ... ..  \n",
       "95             1  1  \n",
       "96             1  1  \n",
       "97             1  1  \n",
       "98             1  1  \n",
       "99             1  1  \n",
       "\n",
       "[100 rows x 26 columns]"
      ]
     },
     "execution_count": 532,
     "metadata": {},
     "output_type": "execute_result"
    }
   ],
   "source": [
    "data.head(100)"
   ]
  },
  {
   "cell_type": "code",
   "execution_count": 533,
   "id": "e0408fb5",
   "metadata": {},
   "outputs": [
    {
     "name": "stdout",
     "output_type": "stream",
     "text": [
      "<class 'pandas.core.frame.DataFrame'>\n",
      "RangeIndex: 12684 entries, 0 to 12683\n",
      "Data columns (total 26 columns):\n",
      " #   Column                Non-Null Count  Dtype \n",
      "---  ------                --------------  ----- \n",
      " 0   destination           12684 non-null  object\n",
      " 1   passanger             12684 non-null  object\n",
      " 2   weather               12684 non-null  object\n",
      " 3   temperature           12684 non-null  int64 \n",
      " 4   time                  12684 non-null  object\n",
      " 5   coupon                12684 non-null  object\n",
      " 6   expiration            12684 non-null  object\n",
      " 7   gender                12684 non-null  object\n",
      " 8   age                   12684 non-null  object\n",
      " 9   maritalStatus         12684 non-null  object\n",
      " 10  has_children          12684 non-null  int64 \n",
      " 11  education             12684 non-null  object\n",
      " 12  occupation            12684 non-null  object\n",
      " 13  income                12684 non-null  object\n",
      " 14  car                   108 non-null    object\n",
      " 15  Bar                   12577 non-null  object\n",
      " 16  CoffeeHouse           12467 non-null  object\n",
      " 17  CarryAway             12533 non-null  object\n",
      " 18  RestaurantLessThan20  12554 non-null  object\n",
      " 19  Restaurant20To50      12495 non-null  object\n",
      " 20  toCoupon_GEQ5min      12684 non-null  int64 \n",
      " 21  toCoupon_GEQ15min     12684 non-null  int64 \n",
      " 22  toCoupon_GEQ25min     12684 non-null  int64 \n",
      " 23  direction_same        12684 non-null  int64 \n",
      " 24  direction_opp         12684 non-null  int64 \n",
      " 25  Y                     12684 non-null  int64 \n",
      "dtypes: int64(8), object(18)\n",
      "memory usage: 2.5+ MB\n"
     ]
    }
   ],
   "source": [
    "data.info()"
   ]
  },
  {
   "cell_type": "markdown",
   "id": "1a2e5c24",
   "metadata": {},
   "source": [
    "#Examinine the dataset for any null values "
   ]
  },
  {
   "cell_type": "code",
   "execution_count": 534,
   "id": "45261b7f",
   "metadata": {},
   "outputs": [
    {
     "data": {
      "text/plain": [
       "151"
      ]
     },
     "execution_count": 534,
     "metadata": {},
     "output_type": "execute_result"
    }
   ],
   "source": [
    "data[\"CarryAway\"].isnull().sum()"
   ]
  },
  {
   "cell_type": "code",
   "execution_count": 535,
   "id": "8390dde9",
   "metadata": {},
   "outputs": [
    {
     "data": {
      "text/plain": [
       "True"
      ]
     },
     "execution_count": 535,
     "metadata": {},
     "output_type": "execute_result"
    }
   ],
   "source": [
    "data.isnull().values.any()"
   ]
  },
  {
   "cell_type": "markdown",
   "id": "c2ac1a3d",
   "metadata": {},
   "source": [
    "#Review each column and get the unique values present in each column"
   ]
  },
  {
   "cell_type": "code",
   "execution_count": 536,
   "id": "4284bde0",
   "metadata": {},
   "outputs": [
    {
     "data": {
      "text/plain": [
       "array(['No Urgent Place', 'Home', 'Work'], dtype=object)"
      ]
     },
     "execution_count": 536,
     "metadata": {},
     "output_type": "execute_result"
    }
   ],
   "source": [
    "data.destination.unique()"
   ]
  },
  {
   "cell_type": "code",
   "execution_count": 537,
   "id": "6ade274f",
   "metadata": {},
   "outputs": [
    {
     "data": {
      "text/plain": [
       "array(['Alone', 'Friend(s)', 'Kid(s)', 'Partner'], dtype=object)"
      ]
     },
     "execution_count": 537,
     "metadata": {},
     "output_type": "execute_result"
    }
   ],
   "source": [
    "data.passanger.unique()"
   ]
  },
  {
   "cell_type": "code",
   "execution_count": 538,
   "id": "80cb92d7",
   "metadata": {},
   "outputs": [
    {
     "data": {
      "text/plain": [
       "array(['Sunny', 'Rainy', 'Snowy'], dtype=object)"
      ]
     },
     "execution_count": 538,
     "metadata": {},
     "output_type": "execute_result"
    }
   ],
   "source": [
    "data.weather.unique()"
   ]
  },
  {
   "cell_type": "code",
   "execution_count": 539,
   "id": "659e581a",
   "metadata": {},
   "outputs": [
    {
     "data": {
      "text/plain": [
       "array([55, 80, 30])"
      ]
     },
     "execution_count": 539,
     "metadata": {},
     "output_type": "execute_result"
    }
   ],
   "source": [
    "data.temperature.unique()"
   ]
  },
  {
   "cell_type": "code",
   "execution_count": 540,
   "id": "bb3c9fe0",
   "metadata": {},
   "outputs": [
    {
     "data": {
      "text/plain": [
       "array(['2PM', '10AM', '6PM', '7AM', '10PM'], dtype=object)"
      ]
     },
     "execution_count": 540,
     "metadata": {},
     "output_type": "execute_result"
    }
   ],
   "source": [
    "data.time.unique()"
   ]
  },
  {
   "cell_type": "code",
   "execution_count": 541,
   "id": "c8455a24",
   "metadata": {},
   "outputs": [
    {
     "data": {
      "text/plain": [
       "array(['Restaurant(<20)', 'Coffee House', 'Carry out & Take away', 'Bar',\n",
       "       'Restaurant(20-50)'], dtype=object)"
      ]
     },
     "execution_count": 541,
     "metadata": {},
     "output_type": "execute_result"
    }
   ],
   "source": [
    "data.coupon.unique()"
   ]
  },
  {
   "cell_type": "code",
   "execution_count": 542,
   "id": "e1b16ef8",
   "metadata": {},
   "outputs": [
    {
     "data": {
      "text/plain": [
       "array(['1d', '2h'], dtype=object)"
      ]
     },
     "execution_count": 542,
     "metadata": {},
     "output_type": "execute_result"
    }
   ],
   "source": [
    "data.expiration.unique()"
   ]
  },
  {
   "cell_type": "code",
   "execution_count": 543,
   "id": "2a5d1c33",
   "metadata": {},
   "outputs": [
    {
     "data": {
      "text/plain": [
       "array(['Unemployed', 'Architecture & Engineering', 'Student',\n",
       "       'Education&Training&Library', 'Healthcare Support',\n",
       "       'Healthcare Practitioners & Technical', 'Sales & Related',\n",
       "       'Management', 'Arts Design Entertainment Sports & Media',\n",
       "       'Computer & Mathematical', 'Life Physical Social Science',\n",
       "       'Personal Care & Service', 'Community & Social Services',\n",
       "       'Office & Administrative Support', 'Construction & Extraction',\n",
       "       'Legal', 'Retired', 'Installation Maintenance & Repair',\n",
       "       'Transportation & Material Moving', 'Business & Financial',\n",
       "       'Protective Service', 'Food Preparation & Serving Related',\n",
       "       'Production Occupations',\n",
       "       'Building & Grounds Cleaning & Maintenance',\n",
       "       'Farming Fishing & Forestry'], dtype=object)"
      ]
     },
     "execution_count": 543,
     "metadata": {},
     "output_type": "execute_result"
    }
   ],
   "source": [
    "data.occupation.unique()"
   ]
  },
  {
   "cell_type": "code",
   "execution_count": 544,
   "id": "e986db17",
   "metadata": {},
   "outputs": [
    {
     "data": {
      "text/plain": [
       "array(['$37500 - $49999', '$62500 - $74999', '$12500 - $24999',\n",
       "       '$75000 - $87499', '$50000 - $62499', '$25000 - $37499',\n",
       "       '$100000 or More', '$87500 - $99999', 'Less than $12500'],\n",
       "      dtype=object)"
      ]
     },
     "execution_count": 544,
     "metadata": {},
     "output_type": "execute_result"
    }
   ],
   "source": [
    "data.income.unique()"
   ]
  },
  {
   "cell_type": "code",
   "execution_count": 545,
   "id": "b3be0b5f",
   "metadata": {},
   "outputs": [
    {
     "data": {
      "text/plain": [
       "array([nan, 'Scooter and motorcycle', 'crossover', 'Mazda5',\n",
       "       'do not drive', 'Car that is too old to install Onstar :D'],\n",
       "      dtype=object)"
      ]
     },
     "execution_count": 545,
     "metadata": {},
     "output_type": "execute_result"
    }
   ],
   "source": [
    "data.car.unique()"
   ]
  },
  {
   "cell_type": "code",
   "execution_count": 546,
   "id": "bdcb6c38",
   "metadata": {},
   "outputs": [
    {
     "data": {
      "text/plain": [
       "array(['never', 'less1', '1~3', 'gt8', nan, '4~8'], dtype=object)"
      ]
     },
     "execution_count": 546,
     "metadata": {},
     "output_type": "execute_result"
    }
   ],
   "source": [
    "data.Bar.unique()"
   ]
  },
  {
   "cell_type": "code",
   "execution_count": 547,
   "id": "aed284a6",
   "metadata": {},
   "outputs": [
    {
     "data": {
      "text/plain": [
       "array(['never', 'less1', '4~8', '1~3', 'gt8', nan], dtype=object)"
      ]
     },
     "execution_count": 547,
     "metadata": {},
     "output_type": "execute_result"
    }
   ],
   "source": [
    "data.CoffeeHouse.unique()"
   ]
  },
  {
   "cell_type": "code",
   "execution_count": 548,
   "id": "68df9620",
   "metadata": {},
   "outputs": [
    {
     "data": {
      "text/plain": [
       "array([nan, '4~8', '1~3', 'gt8', 'less1', 'never'], dtype=object)"
      ]
     },
     "execution_count": 548,
     "metadata": {},
     "output_type": "execute_result"
    }
   ],
   "source": [
    "data.CarryAway.unique()"
   ]
  },
  {
   "cell_type": "code",
   "execution_count": 549,
   "id": "f6460bc4",
   "metadata": {},
   "outputs": [
    {
     "data": {
      "text/plain": [
       "array(['4~8', '1~3', 'less1', 'gt8', nan, 'never'], dtype=object)"
      ]
     },
     "execution_count": 549,
     "metadata": {},
     "output_type": "execute_result"
    }
   ],
   "source": [
    "data.RestaurantLessThan20.unique()"
   ]
  },
  {
   "cell_type": "code",
   "execution_count": 550,
   "id": "46c8d59d",
   "metadata": {},
   "outputs": [
    {
     "data": {
      "text/plain": [
       "array(['1~3', 'less1', 'never', 'gt8', '4~8', nan], dtype=object)"
      ]
     },
     "execution_count": 550,
     "metadata": {},
     "output_type": "execute_result"
    }
   ],
   "source": [
    "data.Restaurant20To50.unique()"
   ]
  },
  {
   "cell_type": "code",
   "execution_count": 551,
   "id": "dd2633c7",
   "metadata": {},
   "outputs": [
    {
     "data": {
      "text/plain": [
       "array([1])"
      ]
     },
     "execution_count": 551,
     "metadata": {},
     "output_type": "execute_result"
    }
   ],
   "source": [
    "data.toCoupon_GEQ5min.unique()"
   ]
  },
  {
   "cell_type": "code",
   "execution_count": 552,
   "id": "a363f591",
   "metadata": {},
   "outputs": [
    {
     "data": {
      "text/plain": [
       "array([0, 1])"
      ]
     },
     "execution_count": 552,
     "metadata": {},
     "output_type": "execute_result"
    }
   ],
   "source": [
    "data.toCoupon_GEQ15min.unique()"
   ]
  },
  {
   "cell_type": "code",
   "execution_count": 553,
   "id": "ef6c8d39",
   "metadata": {},
   "outputs": [
    {
     "data": {
      "text/plain": [
       "array([0, 1])"
      ]
     },
     "execution_count": 553,
     "metadata": {},
     "output_type": "execute_result"
    }
   ],
   "source": [
    "data.toCoupon_GEQ25min.unique()"
   ]
  },
  {
   "cell_type": "code",
   "execution_count": 554,
   "id": "1cef55be",
   "metadata": {},
   "outputs": [
    {
     "data": {
      "text/plain": [
       "array([0, 1])"
      ]
     },
     "execution_count": 554,
     "metadata": {},
     "output_type": "execute_result"
    }
   ],
   "source": [
    "data.direction_same.unique()"
   ]
  },
  {
   "cell_type": "code",
   "execution_count": 555,
   "id": "fb823dde",
   "metadata": {},
   "outputs": [
    {
     "data": {
      "text/plain": [
       "array([1, 0])"
      ]
     },
     "execution_count": 555,
     "metadata": {},
     "output_type": "execute_result"
    }
   ],
   "source": [
    "data.direction_opp.unique()"
   ]
  },
  {
   "cell_type": "code",
   "execution_count": 556,
   "id": "412c4f44",
   "metadata": {
    "scrolled": true
   },
   "outputs": [
    {
     "data": {
      "text/plain": [
       "array([1, 0])"
      ]
     },
     "execution_count": 556,
     "metadata": {},
     "output_type": "execute_result"
    }
   ],
   "source": [
    "data.Y.unique()"
   ]
  },
  {
   "cell_type": "markdown",
   "id": "9c2a8c82",
   "metadata": {},
   "source": [
    "#After reviewing the unique values in each columns, I gathered that: \n",
    "1. The values \"less1\" and \"never\" esentially mean 0 and can be replaced by 0 \n",
    "2. The value gt8, 50plus, below21 can be replaced by 8+, 50+, <21 respectively\n",
    "3. The car value is null for 12577 records and I decided to replace it by \"Unknown\" \n",
    "instead of dropping car column as it is needed for the data analysis later.\n",
    "4. There are NaN values of Bar, CoffeeHouse, CarryAway, RestaurantLessThan20, Restaurant20To50 columns too. \n",
    "I decided to to replace them by \"Unknown\" as well.  \n",
    "5. Few column names can be renamed for better readability. "
   ]
  },
  {
   "cell_type": "code",
   "execution_count": 557,
   "id": "fbd92274",
   "metadata": {},
   "outputs": [],
   "source": [
    "data = data.replace([\"less1\", \"never\"], \"0\")\n",
    "data = data.replace(\"gt8\", \"8+\")\n",
    "data = data.replace(\"50plus\", \"50+\")\n",
    "data = data.replace(\"below21\", \"<21\")\n",
    "data = data.fillna('Unknown')\n",
    "data = data.rename(columns={\"RestaurantLessThan20\": \"RestaurantLT20\", \n",
    "                     \"Restaurant20To50\": \"Restaurant20_50\",\n",
    "                     \"toCoupon_GEQ5min\" : \"toCoupon_GEQ_5min\", \n",
    "                     \"toCoupon_GEQ15min\" : \"toCoupon_GEQ_15min\", \n",
    "                     \"toCoupon_GEQ25min\" : \"toCoupon_GEQ_25min\", \n",
    "                     \"direction_same\" : \"same_direction\",\n",
    "                     \"direction_opp\" : \"opp_direction\"})"
   ]
  },
  {
   "cell_type": "markdown",
   "id": "e751a28a",
   "metadata": {},
   "source": [
    "#Verify that the data clean up is successfully done and there are still 12684 records in the dataset"
   ]
  },
  {
   "cell_type": "code",
   "execution_count": 558,
   "id": "70098b0d",
   "metadata": {},
   "outputs": [
    {
     "name": "stdout",
     "output_type": "stream",
     "text": [
      "<class 'pandas.core.frame.DataFrame'>\n",
      "RangeIndex: 12684 entries, 0 to 12683\n",
      "Data columns (total 26 columns):\n",
      " #   Column              Non-Null Count  Dtype \n",
      "---  ------              --------------  ----- \n",
      " 0   destination         12684 non-null  object\n",
      " 1   passanger           12684 non-null  object\n",
      " 2   weather             12684 non-null  object\n",
      " 3   temperature         12684 non-null  int64 \n",
      " 4   time                12684 non-null  object\n",
      " 5   coupon              12684 non-null  object\n",
      " 6   expiration          12684 non-null  object\n",
      " 7   gender              12684 non-null  object\n",
      " 8   age                 12684 non-null  object\n",
      " 9   maritalStatus       12684 non-null  object\n",
      " 10  has_children        12684 non-null  int64 \n",
      " 11  education           12684 non-null  object\n",
      " 12  occupation          12684 non-null  object\n",
      " 13  income              12684 non-null  object\n",
      " 14  car                 12684 non-null  object\n",
      " 15  Bar                 12684 non-null  object\n",
      " 16  CoffeeHouse         12684 non-null  object\n",
      " 17  CarryAway           12684 non-null  object\n",
      " 18  RestaurantLT20      12684 non-null  object\n",
      " 19  Restaurant20_50     12684 non-null  object\n",
      " 20  toCoupon_GEQ_5min   12684 non-null  int64 \n",
      " 21  toCoupon_GEQ_15min  12684 non-null  int64 \n",
      " 22  toCoupon_GEQ_25min  12684 non-null  int64 \n",
      " 23  same_direction      12684 non-null  int64 \n",
      " 24  opp_direction       12684 non-null  int64 \n",
      " 25  Y                   12684 non-null  int64 \n",
      "dtypes: int64(8), object(18)\n",
      "memory usage: 2.5+ MB\n"
     ]
    }
   ],
   "source": [
    "data.info()"
   ]
  },
  {
   "cell_type": "code",
   "execution_count": 559,
   "id": "82bc73f6",
   "metadata": {},
   "outputs": [
    {
     "data": {
      "text/plain": [
       "array(['4~8', '1~3', '0', '8+', 'Unknown'], dtype=object)"
      ]
     },
     "execution_count": 559,
     "metadata": {},
     "output_type": "execute_result"
    }
   ],
   "source": [
    " data.RestaurantLT20.unique()"
   ]
  },
  {
   "cell_type": "code",
   "execution_count": 561,
   "id": "c5616cc1",
   "metadata": {},
   "outputs": [
    {
     "data": {
      "text/plain": [
       "array(['1~3', '0', '8+', '4~8', 'Unknown'], dtype=object)"
      ]
     },
     "execution_count": 561,
     "metadata": {},
     "output_type": "execute_result"
    }
   ],
   "source": [
    " data.Restaurant20_50.unique()"
   ]
  },
  {
   "cell_type": "code",
   "execution_count": 562,
   "id": "65e93f14",
   "metadata": {},
   "outputs": [
    {
     "data": {
      "text/plain": [
       "array([1])"
      ]
     },
     "execution_count": 562,
     "metadata": {},
     "output_type": "execute_result"
    }
   ],
   "source": [
    " data.toCoupon_GEQ_5min.unique()"
   ]
  },
  {
   "cell_type": "code",
   "execution_count": 563,
   "id": "529cde77",
   "metadata": {},
   "outputs": [
    {
     "data": {
      "text/plain": [
       "12684"
      ]
     },
     "execution_count": 563,
     "metadata": {},
     "output_type": "execute_result"
    }
   ],
   "source": [
    " len(data.index)"
   ]
  },
  {
   "cell_type": "markdown",
   "id": "64d08a67",
   "metadata": {},
   "source": [
    "#To determine proportion of the total observations chose to accept the coupon, I used below formula: \n",
    "(Total number of records with Y = 1 / Total number of records in the dataset) * 100"
   ]
  },
  {
   "cell_type": "code",
   "execution_count": 564,
   "id": "aeafa9be",
   "metadata": {},
   "outputs": [
    {
     "name": "stdout",
     "output_type": "stream",
     "text": [
      "Proportion of the total observations chose to accept the coupon =  56.84326710816777 %\n"
     ]
    }
   ],
   "source": [
    "percent_accepted_coupon = (data[\"Y\"].sum() /  len(data.index)) *100\n",
    "print('Proportion of the total observations chose to accept the coupon = ',percent_accepted_coupon,'%')"
   ]
  },
  {
   "cell_type": "markdown",
   "id": "86c5e46b",
   "metadata": {},
   "source": [
    "#A bar plot to visualize the `coupon` column."
   ]
  },
  {
   "cell_type": "code",
   "execution_count": 565,
   "id": "dc91b5f9",
   "metadata": {},
   "outputs": [
    {
     "data": {
      "image/png": "[encoded data removed]",
      "text/plain": [
       "<Figure size 640x480 with 1 Axes>"
      ]
     },
     "metadata": {},
     "output_type": "display_data"
    }
   ],
   "source": [
    "data1 = data.coupon.unique() \n",
    "arr1 = []\n",
    "arr2 = []\n",
    "  \n",
    "cnt1 = len(data.query('coupon == \"Restaurant(<20)\"').value_counts())\n",
    "cnt2 = len(data.query('coupon == \"Restaurant(20-50)\"').value_counts())\n",
    "cnt3 = len(data.query('coupon == \"Carry out & Take away\"').value_counts())\n",
    "cnt4 = len(data.query('coupon == \"Coffee House\"').value_counts())\n",
    "cnt5 = len(data.query('coupon == \"Bar\"').value_counts())\n",
    "\n",
    "coupon_plt = {\"Restaurant(<20)\": cnt1, \"Restaurant(20-50)\": cnt2,\n",
    "              \"Carry out & Take away\" : cnt3, \"Coffee House\" : cnt4, \n",
    "              \"Bar\" : cnt5}\n",
    "names = list(coupon_plt.keys())\n",
    "values = list(coupon_plt.values())\n",
    "\n",
    "plt.bar(range(len(coupon_plt)), values, tick_label=names, width = 0.3)\n",
    "plt.xticks(rotation=80)\n",
    "plt.show()\n"
   ]
  },
  {
   "cell_type": "markdown",
   "id": "2a816f66",
   "metadata": {},
   "source": [
    "#A histogram to visualize temperature column"
   ]
  },
  {
   "cell_type": "code",
   "execution_count": 566,
   "id": "07e51fe8",
   "metadata": {},
   "outputs": [
    {
     "data": {
      "image/png": "[encoded data removed]",
      "text/plain": [
       "<Figure size 640x480 with 1 Axes>"
      ]
     },
     "metadata": {},
     "output_type": "display_data"
    }
   ],
   "source": [
    "sns.histplot(data=data, x=\"temperature\")\n",
    "plt.show()"
   ]
  },
  {
   "cell_type": "markdown",
   "id": "7efd2315",
   "metadata": {},
   "source": [
    "#Create a new `DataFrame` that contains just the bar coupons."
   ]
  },
  {
   "cell_type": "code",
   "execution_count": 567,
   "id": "10c7d227",
   "metadata": {},
   "outputs": [],
   "source": [
    "bar_coupon = data.query('coupon == \"Bar\"')"
   ]
  },
  {
   "cell_type": "markdown",
   "id": "51807846",
   "metadata": {},
   "source": [
    "#To calculate the proportion of bar coupons were accepted, I used the below formula: \n",
    "(Total number of Bar coupons accepted (Y=1) / Total number of Bar Coupons) * 100"
   ]
  },
  {
   "cell_type": "code",
   "execution_count": 568,
   "id": "a34dd032",
   "metadata": {},
   "outputs": [
    {
     "name": "stdout",
     "output_type": "stream",
     "text": [
      "Proportion of bar coupons were accepted =  41.00148735746158 %\n"
     ]
    },
    {
     "data": {
      "image/png": "[encoded data removed]",
      "text/plain": [
       "<Figure size 640x480 with 1 Axes>"
      ]
     },
     "metadata": {},
     "output_type": "display_data"
    }
   ],
   "source": [
    "len(bar_coupon) \n",
    "bar_accepted = bar_coupon.query('Y == 1')\n",
    "#print(len(bar_accepted))\n",
    "#print(len(bar_coupon)) \n",
    "\n",
    "percent_bar_accepted = (len(bar_accepted) / len(bar_coupon)) * 100\n",
    "print('Proportion of bar coupons were accepted = ', percent_bar_accepted,'%')\n",
    "\n",
    "not_accepted = len(bar_coupon) - len(bar_accepted)\n",
    "bar_accepted_plt = {\"Accepted\": len(bar_accepted), 'Not Accepted': not_accepted}\n",
    "names = list(bar_accepted_plt.keys())\n",
    "values = list(bar_accepted_plt.values())\n",
    "#print(len(bar_accepted))\n",
    "#print(not_accepted)\n",
    "\n",
    "plt.bar(range(len(bar_accepted_plt)), values, tick_label=names, width = 0.3)\n",
    "plt.show()"
   ]
  },
  {
   "cell_type": "markdown",
   "id": "e470a758",
   "metadata": {},
   "source": [
    "#To Compare the acceptance rate between those who went to a bar 3 or fewer times a month to those who went more.\n",
    "\n",
    "Formula = (Number of people who accepted the coupon and went to a bar 3 or fewer times /\n",
    "           Number of people who accepted the coupon and went to a bar more than 3 times) * 100"
   ]
  },
  {
   "cell_type": "code",
   "execution_count": 569,
   "id": "e36000f5",
   "metadata": {},
   "outputs": [
    {
     "name": "stdout",
     "output_type": "stream",
     "text": [
      "The acceptance rate between those who went to a bar <=3 times a month to those who went more is 706.651634723788 %\n"
     ]
    },
    {
     "data": {
      "image/png": "[encoded data removed]",
      "text/plain": [
       "<Figure size 640x480 with 1 Axes>"
      ]
     },
     "metadata": {},
     "output_type": "display_data"
    }
   ],
   "source": [
    "#print(data.Bar.unique())\n",
    "list_of_gt4_bar_visits = [\"4~8\",\"8+\"]\n",
    "list_of_lt4_bar_visits = [\"0\",\"1~3\"]\n",
    "barlt4 = data.query('Bar in @list_of_lt4_bar_visits and Y==1')\n",
    "bargt4 = data.query('Bar in @list_of_gt4_bar_visits and Y==1')\n",
    "\n",
    "#print(len(barlt4))\n",
    "#print(len(bargt4))\n",
    "acceptance_rate=(len(barlt4)/len(bargt4)) * 100 \n",
    "print('The acceptance rate between those who went to a bar <=3 times a month to those who went more is',acceptance_rate,'%')\n",
    "\n",
    "acceptance_rate_plt = {\"Bar Visits <= 3\": len(barlt4), 'Bar Visits > 3': len(bargt4)}\n",
    "names = list(acceptance_rate_plt.keys())\n",
    "values = list(acceptance_rate_plt.values())\n",
    "plt.bar(range(len(acceptance_rate_plt)), values, tick_label=names, width = 0.3)\n",
    "plt.show()"
   ]
  },
  {
   "cell_type": "markdown",
   "id": "97f49781",
   "metadata": {},
   "source": [
    "#Compare the acceptance rate between drivers who go to a bar more than once a month and \n",
    "are over the age of 25 to the all others.  Is there a difference?\n",
    "\n",
    "#Calculate drivers who go to a bar more than once a month and are over the age of 25\n",
    "The values in the Bar column are 'Unknown', '0', '1-3', '8+', '4-8'. \n",
    "I'm using values '1-3', '8+', nan, '4-8' to determine the drivers that got to a bar more than once a month \n",
    "\n",
    "For calculating the acceptance rate for others, I considered: \n",
    "1. The drivers below 25 who never go to bar or go to bar any number of times \n",
    "2. The drivers who go to a bar less than once a month and are over the age of 25"
   ]
  },
  {
   "cell_type": "code",
   "execution_count": 570,
   "id": "67758d6c",
   "metadata": {},
   "outputs": [
    {
     "data": {
      "text/plain": [
       "array(['21', '46', '26', '31', '41', '50+', '36', '<21'], dtype=object)"
      ]
     },
     "execution_count": 570,
     "metadata": {},
     "output_type": "execute_result"
    }
   ],
   "source": [
    "data.age.unique()"
   ]
  },
  {
   "cell_type": "code",
   "execution_count": 571,
   "id": "326fcb20",
   "metadata": {},
   "outputs": [
    {
     "name": "stdout",
     "output_type": "stream",
     "text": [
      "data_bar_car_age_filtered =  1716\n",
      "data_bar_car_age_other =  1587\n",
      "108.12854442344046\n"
     ]
    },
    {
     "data": {
      "image/png": "[encoded data removed]",
      "text/plain": [
       "<Figure size 640x480 with 1 Axes>"
      ]
     },
     "metadata": {},
     "output_type": "display_data"
    }
   ],
   "source": [
    "#Calculate number of drivers who go to a bar more than once a month and are over the age of 25\n",
    "list_of_gt1_bar_visits = [\"1~3\",\"4~8\",\"8+\"]\n",
    "list_of_gt25_age = [\"46\", \"26\", \"31\", \"41\", \"50+\", \"36\"]\n",
    "data_bar_car_age_filtered = data.query('Bar in @list_of_gt1_bar_visits  and age in @list_of_gt25_age  and car != \"do not drive\" and Y ==1')\n",
    " \n",
    "#Calculate number of drivers below 25 who never go to bar or go to bar any number of times \n",
    "#and drivers who go to a bar less than once a month and are over the age of 25\n",
    "list_of_lt25_age = [\"21\", \"below21\"]\n",
    "list_of_lt1_bar_visits = [\"0\"]\n",
    "data_bar_car_age_other = data.query(('age in @list_of_lt25_age and car != \"do not drive\" and Y == 1') or \n",
    "                                ('Bar in @list_of_lt1_bar_visits and age in @list_of_gt25_age  and car != \"do not drive\" and Y ==1'))\n",
    "\n",
    "print('data_bar_car_age_filtered = ',len(data_bar_car_age_filtered))\n",
    "print('data_bar_car_age_other = ',len(data_bar_car_age_other))\n",
    "\n",
    "acceptance_rate1 = (len(data_bar_car_age_filtered) / len(data_bar_car_age_other)) * 100\n",
    "print(acceptance_rate1)\n",
    "\n",
    "acceptance_rate1_plt = {\"Bar Visits > 1, Age > 25\": len(data_bar_car_age_filtered), 'Other': len(data_bar_car_age_other)}\n",
    "names = list(acceptance_rate1_plt.keys())\n",
    "values = list(acceptance_rate1_plt.values())\n",
    "plt.bar(range(len(acceptance_rate1_plt)), values, tick_label=names, width = 0.3)\n",
    "plt.show()"
   ]
  },
  {
   "cell_type": "code",
   "execution_count": 572,
   "id": "6925b85f",
   "metadata": {},
   "outputs": [
    {
     "data": {
      "text/plain": [
       "array(['Alone', 'Friend(s)', 'Kid(s)', 'Partner'], dtype=object)"
      ]
     },
     "execution_count": 572,
     "metadata": {},
     "output_type": "execute_result"
    }
   ],
   "source": [
    "data.passanger.unique()"
   ]
  },
  {
   "cell_type": "code",
   "execution_count": 573,
   "id": "5508b29b",
   "metadata": {},
   "outputs": [
    {
     "data": {
      "text/plain": [
       "array(['Unemployed', 'Architecture & Engineering', 'Student',\n",
       "       'Education&Training&Library', 'Healthcare Support',\n",
       "       'Healthcare Practitioners & Technical', 'Sales & Related',\n",
       "       'Management', 'Arts Design Entertainment Sports & Media',\n",
       "       'Computer & Mathematical', 'Life Physical Social Science',\n",
       "       'Personal Care & Service', 'Community & Social Services',\n",
       "       'Office & Administrative Support', 'Construction & Extraction',\n",
       "       'Legal', 'Retired', 'Installation Maintenance & Repair',\n",
       "       'Transportation & Material Moving', 'Business & Financial',\n",
       "       'Protective Service', 'Food Preparation & Serving Related',\n",
       "       'Production Occupations',\n",
       "       'Building & Grounds Cleaning & Maintenance',\n",
       "       'Farming Fishing & Forestry'], dtype=object)"
      ]
     },
     "execution_count": 573,
     "metadata": {},
     "output_type": "execute_result"
    }
   ],
   "source": [
    "data.occupation.unique()"
   ]
  },
  {
   "cell_type": "markdown",
   "id": "3ae7a31b",
   "metadata": {},
   "source": [
    "#Compare the acceptance rate between drivers who go to bars more than once a month and \n",
    "had passengers that were not a kid and had occupations other than farming, fishing, or forestry. \n",
    "\n",
    "#I'm using values '1-3', '8+', '4-8' to determine the drivers that go to a bar more than once a month \n",
    "\n",
    "For calculating the acceptance rate of others, I considered: \n",
    "The number of drivers who go to bar more than once a month and were either accompanied by a kid or went alone and had occupations farming, fishing, or forestry"
   ]
  },
  {
   "cell_type": "code",
   "execution_count": 589,
   "id": "cde10851",
   "metadata": {},
   "outputs": [
    {
     "name": "stdout",
     "output_type": "stream",
     "text": [
      "976\n",
      "122\n",
      "1327\n"
     ]
    },
    {
     "data": {
      "image/png": "[encoded data removed]",
      "text/plain": [
       "<Figure size 640x480 with 1 Axes>"
      ]
     },
     "metadata": {},
     "output_type": "display_data"
    }
   ],
   "source": [
    "#Calculate the number of drivers who go to bar more than once a month and \n",
    "#had passengers that were not a kid and had occupations other than farming, fishing, or forestry\n",
    "\n",
    "list_of_passangers = ['Friend(s)', 'Partner']\n",
    "list_of_gt1_bar_visits = [\"1~3\",\"4~8\",\"8+\"]\n",
    "\n",
    "data_bar_pass_occ_filtered = data.query('Bar in @list_of_gt1_bar_visits  and passanger in @list_of_passangers  and occupation != \"Farming Fishing & Forestry\" and Y ==1')\n",
    "\n",
    "#Calculate the number of drivers who go to bar more than once a month  and \n",
    "#were either accompanied by a kid or went alone and had occupations farming, fishing, or forestry\n",
    "list_of_passangers_other = ['Kid(s)']\n",
    "data_bar_pass_occ_other = data.query('Bar in @list_of_gt1_bar_visits  and passanger in @list_of_passangers_other and occupation != \"Farming Fishing & Forestry\" and Y ==1')\n",
    "\n",
    "#Calculate the number of drivers who go to bar more than once a month  and \n",
    "#were either accompanied by a kid or went alone and had occupations farming, fishing, or forestry\n",
    "list_of_passangers_other1 = ['Alone']\n",
    "data_bar_pass_occ_other1 = data.query('Bar in @list_of_gt1_bar_visits  and passanger in @list_of_passangers_other1 and occupation != \"Farming Fishing & Forestry\" and Y ==1')\n",
    "\n",
    "print(len(data_bar_pass_occ_filtered))\n",
    "print(len(data_bar_pass_occ_other))\n",
    "print(len(data_bar_pass_occ_other1))\n",
    "\n",
    "acceptance_rate2_plt = {\"Bar Visits > 1 with friends/partner\": len(data_bar_pass_occ_filtered), \n",
    "                        \"Bar Visits > 1 with kids\": len(data_bar_pass_occ_other),\n",
    "                        \"Bar Visits > 1 alone\": len(data_bar_pass_occ_other1)}\n",
    "names = list(acceptance_rate2_plt.keys())\n",
    "values = list(acceptance_rate2_plt.values())\n",
    "plt.bar(range(len(acceptance_rate2_plt)), values, tick_label=names, width = 0.3)\n",
    "plt.xticks(rotation=60)\n",
    "plt.show()"
   ]
  },
  {
   "cell_type": "markdown",
   "id": "16e9abf8",
   "metadata": {},
   "source": [
    "#Compare the acceptance rates between those drivers who:\n",
    "\n",
    "- go to bars more than once a month, had passengers that were not a kid, and were not widowed *OR*\n",
    "- go to bars more than once a month and are under the age of 30 *OR*\n",
    "- go to cheap restaurants more than 4 times a month and income is less than 50K. \n",
    "\n"
   ]
  },
  {
   "cell_type": "code",
   "execution_count": 580,
   "id": "4844bfcb",
   "metadata": {},
   "outputs": [
    {
     "name": "stdout",
     "output_type": "stream",
     "text": [
      "971\n",
      "1417\n",
      "1369\n"
     ]
    },
    {
     "data": {
      "image/png": "[encoded data removed]",
      "text/plain": [
       "<Figure size 640x480 with 1 Axes>"
      ]
     },
     "metadata": {},
     "output_type": "display_data"
    }
   ],
   "source": [
    "# Calculate the number of drivers who go to bars more than once a month, \n",
    "# had passengers that were not a kid, and were not widowed\n",
    "list_of_passangers = ['Friend(s)', 'Partner']\n",
    "list_of_gt1_bar_visits = [\"1~3\",\"4~8\",\"8+\"]\n",
    "\n",
    "data_bar_pass_marstat_filtered = data.query('Bar in @list_of_gt1_bar_visits  and passanger in @list_of_passangers and car != \"do not drive\" and maritalStatus != \"Widowed\" and Y ==1')\n",
    "print(len(data_bar_pass_marstat_filtered))\n",
    "\n",
    "#Calculate the number of drivers who go to bars more than once a month and are under the age of 30 \n",
    "list_of_lt30_age = [\"21\", \"<21\", \"26\"]\n",
    "data_bar_ageLT30_filtered = data.query('Bar in @list_of_gt1_bar_visits  and age in @list_of_lt30_age and car != \"do not drive\" and Y ==1')\n",
    "print(len(data_bar_ageLT30_filtered))\n",
    "\n",
    "#Calculate the number of drivers who go to cheap restaurants more than 4 times a month and income is less than 50K\n",
    "list_of_rest_visits = ['4~8', '8+']\n",
    "list_of_income = ['Less than $12500','$12500 - $24999', '$25000 - $37499','$37500 - $49999']\n",
    "data_affordable_rest_income_filtered = data.query('RestaurantLT20 in @list_of_rest_visits  and income in @list_of_income and car != \"do not drive\" and Y ==1')\n",
    "print(len(data_affordable_rest_income_filtered))\n",
    "\n",
    "acceptance_rate3_plt = {\"Bar Visits > 1 with friends/partner, Not widowed\": len(data_bar_pass_marstat_filtered), \n",
    "                        \"Bar Visits > 1, Age < 30\": len(data_bar_ageLT30_filtered),\n",
    "                        \"Affordable Restaurant Visits > 4, Income <50k\": len(data_affordable_rest_income_filtered)}\n",
    "names = list(acceptance_rate3_plt.keys())\n",
    "values = list(acceptance_rate3_plt.values())\n",
    "plt.bar(range(len(acceptance_rate3_plt)), values, tick_label=names, width = 0.3)\n",
    "plt.xticks(rotation=80)\n",
    "plt.show()"
   ]
  },
  {
   "cell_type": "code",
   "execution_count": 494,
   "id": "edcfa6be",
   "metadata": {},
   "outputs": [
    {
     "data": {
      "text/plain": [
       "array(['$37500 - $49999', '$62500 - $74999', '$12500 - $24999',\n",
       "       '$75000 - $87499', '$50000 - $62499', '$25000 - $37499',\n",
       "       '$100000 or More', '$87500 - $99999', 'Less than $12500'],\n",
       "      dtype=object)"
      ]
     },
     "execution_count": 494,
     "metadata": {},
     "output_type": "execute_result"
    }
   ],
   "source": [
    " data.income.unique()"
   ]
  },
  {
   "cell_type": "markdown",
   "id": "3fd8c3da",
   "metadata": {},
   "source": [
    "#Based on these observations, what do you hypothesize about drivers who accepted the bar coupons?\n",
    "\n",
    "1. Hypothesis #1 - The drivers who visit bar less than 3 times a month accept coupon compared to the drivers \n",
    "                   who visit bar more than 3 times a month.\n",
    "2. Hypothesis #2 - The drivers visit bar alone than with partners, friends or kids. \n",
    "3. Hypothesis #3 - The drivers over 25 years of age visited bar more than once. "
   ]
  },
  {
   "cell_type": "markdown",
   "id": "e74fbc35",
   "metadata": {},
   "source": [
    "Independent Investigation:  \n",
    "Compare the acceptance rate of coupons of restaurants under $20, restaurants between 20 - 50, carry away and bar by the people from the following group and who visit restaurants more than 3 times per month: \n",
    "1. Married males \n",
    "2. Married females\n",
    "3. Single males \n",
    "4. Single females\n",
    "5. Divorced males \n",
    "6. Divorced females \n",
    "7. Widowed males \n",
    "8. Widowed females "
   ]
  },
  {
   "cell_type": "code",
   "execution_count": 621,
   "id": "9adcd409",
   "metadata": {},
   "outputs": [
    {
     "data": {
      "text/plain": [
       "Text(0, 0.5, 'Count')"
      ]
     },
     "execution_count": 621,
     "metadata": {},
     "output_type": "execute_result"
    },
    {
     "data": {
      "image/png": "[encoded data removed]",
      "text/plain": [
       "<Figure size 1500x800 with 1 Axes>"
      ]
     },
     "metadata": {},
     "output_type": "display_data"
    }
   ],
   "source": [
    "list_of_rest_visits = ['4~8', '8+']\n",
    "\n",
    "married_males_LT20 = data.query(\"RestaurantLT20 in @list_of_rest_visits and gender == 'Male' and maritalStatus == 'Married partner' and Y ==1\" )\n",
    "married_females_LT20 = data.query(\"RestaurantLT20 in @list_of_rest_visits and gender == 'Female' and maritalStatus == 'Married partner' and Y ==1\" )\n",
    "single_males_LT20 = data.query(\"RestaurantLT20 in @list_of_rest_visits and gender == 'Male' and maritalStatus == 'Single' and Y ==1\" )\n",
    "single_females_LT20 = data.query(\"RestaurantLT20 in @list_of_rest_visits and gender == 'Female' and maritalStatus == 'Single' and Y ==1\" )\n",
    "divorced_males_LT20 = data.query(\"RestaurantLT20 in @list_of_rest_visits and gender == 'Male' and maritalStatus == 'Divorced' and Y ==1\" )\n",
    "divorced_females_LT20 = data.query(\"RestaurantLT20 in @list_of_rest_visits and gender == 'Female' and maritalStatus == 'Divorced' and Y ==1\" )\n",
    "widowed_males_LT20 = data.query(\"RestaurantLT20 in @list_of_rest_visits and gender == 'Male' and maritalStatus == 'Widowed' and Y ==1\" )\n",
    "widowed_females_LT20 = data.query(\"RestaurantLT20 in @list_of_rest_visits and gender == 'Female' and maritalStatus == 'Widowed' and Y ==1\" )\n",
    "\n",
    "married_males_20_50 = data.query(\"Restaurant20_50 in @list_of_rest_visits and gender == 'Male' and maritalStatus == 'Married partner' and Y ==1\" )\n",
    "married_females_20_50 = data.query(\"Restaurant20_50 in @list_of_rest_visits and gender == 'Female' and maritalStatus == 'Married partner' and Y ==1\" )\n",
    "single_males_20_50 = data.query(\"Restaurant20_50 in @list_of_rest_visits and gender == 'Male' and maritalStatus == 'Single' and Y ==1\" )\n",
    "single_females_20_50 = data.query(\"Restaurant20_50 in @list_of_rest_visits and gender == 'Female' and maritalStatus == 'Single' and Y ==1\" )\n",
    "divorced_males_20_50 = data.query(\"Restaurant20_50 in @list_of_rest_visits and gender == 'Male' and maritalStatus == 'Divorced' and Y ==1\" )\n",
    "divorced_females_20_50 = data.query(\"Restaurant20_50 in @list_of_rest_visits and gender == 'Female' and maritalStatus == 'Divorced' and Y ==1\" )\n",
    "widowed_males_20_50 = data.query(\"Restaurant20_50 in @list_of_rest_visits and gender == 'Male' and maritalStatus == 'Widowed' and Y ==1\" )\n",
    "widowed_females_20_50 = data.query(\"Restaurant20_50 in @list_of_rest_visits and gender == 'Female' and maritalStatus == 'Widowed' and Y ==1\" )\n",
    "\n",
    "married_males_carryaway = data.query(\"CarryAway in @list_of_rest_visits and gender == 'Male' and maritalStatus == 'Married partner' and Y ==1\" )\n",
    "married_females_carryaway = data.query(\"CarryAway in @list_of_rest_visits and gender == 'Female' and maritalStatus == 'Married partner' and Y ==1\" )\n",
    "single_males_carryaway = data.query(\"CarryAway in @list_of_rest_visits and gender == 'Male' and maritalStatus == 'Single' and Y ==1\" )\n",
    "single_females_carryaway = data.query(\"CarryAway in @list_of_rest_visits and gender == 'Female' and maritalStatus == 'Single' and Y ==1\" )\n",
    "divorced_males_carryaway = data.query(\"CarryAway in @list_of_rest_visits and gender == 'Male' and maritalStatus == 'Divorced' and Y ==1\" )\n",
    "divorced_females_carryaway = data.query(\"CarryAway in @list_of_rest_visits and gender == 'Female' and maritalStatus == 'Divorced' and Y ==1\" )\n",
    "widowed_males_carryaway = data.query(\"CarryAway in @list_of_rest_visits and gender == 'Male' and maritalStatus == 'Widowed' and Y ==1\" )\n",
    "widowed_females_carryaway = data.query(\"CarryAway in @list_of_rest_visits and gender == 'Female' and maritalStatus == 'Widowed' and Y ==1\" )\n",
    "\n",
    "married_males_bar = data.query(\"Bar in @list_of_rest_visits and gender == 'Male' and maritalStatus == 'Married partner' and Y ==1\" )\n",
    "married_females_bar = data.query(\"Bar in @list_of_rest_visits and gender == 'Female' and maritalStatus == 'Married partner' and Y ==1\" )\n",
    "single_males_bar = data.query(\"Bar in @list_of_rest_visits and gender == 'Male' and maritalStatus == 'Single' and Y ==1\" )\n",
    "single_females_bar = data.query(\"Bar in @list_of_rest_visits and gender == 'Female' and maritalStatus == 'Single' and Y ==1\" )\n",
    "divorced_males_bar = data.query(\"Bar in @list_of_rest_visits and gender == 'Male' and maritalStatus == 'Divorced' and Y ==1\" )\n",
    "divorced_females_bar = data.query(\"Bar in @list_of_rest_visits and gender == 'Female' and maritalStatus == 'Divorced' and Y ==1\" )\n",
    "widowed_males_bar = data.query(\"Bar in @list_of_rest_visits and gender == 'Male' and maritalStatus == 'Widowed' and Y ==1\" )\n",
    "widowed_females_bar = data.query(\"Bar in @list_of_rest_visits and gender == 'Female' and maritalStatus == 'Widowed' and Y ==1\" )\n",
    "\n",
    "acceptance_data1 = pd.DataFrame({\n",
    "    \n",
    "     \"Restaurant < 20\":[len(married_males_LT20),\n",
    "                      len(married_females_LT20),\n",
    "                      len(single_males_LT20),\n",
    "                      len(single_females_LT20),\n",
    "                      len(divorced_males_LT20),\n",
    "                      len(divorced_females_LT20),\n",
    "                      len(widowed_males_LT20), \n",
    "                      len(widowed_females_LT20)],\n",
    "\n",
    "    \"Restaurant $20-50\":[len(married_males_20_50),\n",
    "                      len(married_females_20_50),\n",
    "                      len(single_males_20_50),\n",
    "                      len(single_females_20_50),\n",
    "                      len(divorced_males_20_50),\n",
    "                      len(divorced_females_20_50),\n",
    "                      len(widowed_males_20_50), \n",
    "                      len(widowed_females_20_50)],\n",
    "\n",
    "       \"Carry Away\" : [len(married_males_carryaway),\n",
    "                      len(married_females_carryaway),\n",
    "                      len(single_males_carryaway),\n",
    "                      len(single_females_carryaway),\n",
    "                      len(divorced_males_carryaway),\n",
    "                      len(divorced_females_carryaway),\n",
    "                      len(widowed_males_carryaway), \n",
    "                      len(widowed_females_carryaway)],\n",
    "    \n",
    "             \"Bar\" : [len(married_males_bar),\n",
    "                      len(married_females_bar),\n",
    "                      len(single_males_bar),\n",
    "                      len(single_females_bar),\n",
    "                      len(divorced_males_bar),\n",
    "                      len(divorced_females_bar),\n",
    "                      len(widowed_males_bar), \n",
    "                      len(widowed_females_bar)],}, \n",
    "\n",
    "    index=[\"Married males\", \"Married females\", \n",
    "           \"Single males\", \"Single females\",\n",
    "           \"Divorced males\",\"Divorced females\", \n",
    "           \"Widowed males\",\"Widowed females\"])\n",
    "\n",
    "acceptance_data1.plot(kind=\"bar\",figsize=(15, 8))\n",
    "\n",
    "plt.title(\"Coupon Acceptance Rate Affordable Restaurants vs Expensive Restaurants\")\n",
    "\n",
    "plt.xlabel(\"Marital Status\")\n",
    "\n",
    "plt.ylabel(\"Count\")\n"
   ]
  },
  {
   "cell_type": "markdown",
   "id": "255598ff",
   "metadata": {},
   "source": [
    "Findings: \n",
    "1. Carry Away is the most favourite among most of the groups. \n",
    "2. Single males like to visit carry away, expensive restaurants and bars the most among the study groups. \n",
    "3. Widowed males do not visit restaunts, bars and carry away more than 3 times a month.\n",
    "4. Widowed females do not visit expensive restaurants and bars more than 3 times a month. \n",
    "5. Divorced females do not visit bars more than 3 times a month. \n",
    "\n",
    "It will be intersting to study the effect of other factors, like income, distance from coupon, direction etc on the \n",
    "behavior of the above groups. Based on the above study, it looks like there is a scope to send more lucrative coupons\n",
    "to divorced and widowed. Also, more coupons for the expensive restaurants will help all the groups.  "
   ]
  },
  {
   "cell_type": "code",
   "execution_count": null,
   "id": "447acb59",
   "metadata": {},
   "outputs": [],
   "source": []
  }
 ],
 "metadata": {
  "kernelspec": {
   "display_name": "Python 3 (ipykernel)",
   "language": "python",
   "name": "python3"
  },
  "language_info": {
   "codemirror_mode": {
    "name": "ipython",
    "version": 3
   },
   "file_extension": ".py",
   "mimetype": "text/x-python",
   "name": "python",
   "nbconvert_exporter": "python",
   "pygments_lexer": "ipython3",
   "version": "3.11.4"
  }
 },
 "nbformat": 4,
 "nbformat_minor": 5
}
